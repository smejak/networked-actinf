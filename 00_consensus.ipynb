{
 "cells": [
  {
   "cell_type": "markdown",
   "id": "74fc9c46-8863-4fc1-b48b-26a28a5d3c02",
   "metadata": {},
   "source": [
    "### Consensus Problem - *Networked* Active Inference\n",
    "\n",
    "**Problem description**\n",
    "\n",
    "In the Consensus problem, a group of agents are connected in a network, and each agent has an initial value. The goal is for the agents to reach a consensus on a common value, despite the presence of noise or uncertainty in the network. The agents can perform local communication and update their own value based on the values of their neighbors."
   ]
  },
  {
   "cell_type": "code",
   "execution_count": 1,
   "id": "c75996a6-662c-46f7-be50-b1c4b4d61c1d",
   "metadata": {},
   "outputs": [],
   "source": [
    "import networkx as nx\n",
    "import numpy as np\n",
    "import matplotlib.pyplot as plt\n",
    "import pymdp"
   ]
  },
  {
   "cell_type": "markdown",
   "id": "8e756d03-acd0-4cf4-9927-f2fd0dce4495",
   "metadata": {},
   "source": [
    "Cases:\n",
    "|Cases|Description| Dimensionality of constructing single agent|\n",
    "|-|-|-|\n",
    "|Trivial|1 agent, immediate solution|1|\n",
    "|Simple 2-agent| 2 agents, 4 states (and obs), 2 affordances|4|\n",
    "|General 2-agent| 2 agents, X states (and obs), X affordances| X|"
   ]
  },
  {
   "cell_type": "markdown",
   "id": "a58279d8-cbf8-44a3-bf6a-1adc432908d2",
   "metadata": {},
   "source": [
    "## 2-agent Consensus Problem"
   ]
  },
  {
   "cell_type": "code",
   "execution_count": 2,
   "id": "fd5bd714-b964-496b-be59-77b091e5df27",
   "metadata": {},
   "outputs": [],
   "source": [
    "obs = [4] # 00, 01, 10, 11\n",
    "num_obs_modalities = len(obs)\n",
    "\n",
    "hidden_states = [2, 2]\n",
    "num_hidden_state_factors = len(hidden_states)\n",
    "\n",
    "actions = [0, 1]\n",
    "num_actions_0 = 2\n",
    "num_actions_1 = 1 # I do not control the state of the other agent\n",
    "\n",
    "num_controls = [2, 1]"
   ]
  },
  {
   "cell_type": "markdown",
   "id": "495b2c32-6a59-4ec2-b23e-310234de4433",
   "metadata": {},
   "source": [
    "## A matrix"
   ]
  },
  {
   "cell_type": "code",
   "execution_count": 3,
   "id": "55290754-2d87-4c5e-8822-90a7308aff1e",
   "metadata": {},
   "outputs": [],
   "source": [
    "from pymdp import utils"
   ]
  },
  {
   "cell_type": "code",
   "execution_count": 4,
   "id": "3b2bbbdf-0ccf-482e-84cc-7cd725cb3de8",
   "metadata": {},
   "outputs": [],
   "source": [
    "A = pymdp.utils.obj_array(num_obs_modalities)"
   ]
  },
  {
   "cell_type": "code",
   "execution_count": 5,
   "id": "7052492c-7ed9-4c06-8c48-1f84f7820ad7",
   "metadata": {},
   "outputs": [],
   "source": [
    "A_0 = np.zeros( (obs[0], hidden_states[0], hidden_states[1]) )"
   ]
  },
  {
   "cell_type": "code",
   "execution_count": 6,
   "id": "521b1b93-fc73-4629-8b09-00f62b8131c0",
   "metadata": {},
   "outputs": [],
   "source": [
    "# A_0 -> perceiving my own state\n",
    "# A_0[given one of two observations, my state, the other agent's state] = probability of being in those states\n",
    "A_0[0, 0, 0] = 1\n",
    "A_0[1, 0, 1] = 1\n",
    "A_0[2, 1, 0] = 1\n",
    "A_0[3, 1, 1] = 1"
   ]
  },
  {
   "cell_type": "code",
   "execution_count": 73,
   "id": "a57ab60f-69ee-4bde-89c1-dbf08adecc22",
   "metadata": {},
   "outputs": [
    {
     "data": {
      "text/plain": [
       "array([0., 0., 1., 0.])"
      ]
     },
     "execution_count": 73,
     "metadata": {},
     "output_type": "execute_result"
    }
   ],
   "source": [
    "A_0[:, 1, 0]"
   ]
  },
  {
   "cell_type": "code",
   "execution_count": 7,
   "id": "a780d573-8127-4e2a-83d1-1a824dfa9ad3",
   "metadata": {},
   "outputs": [
    {
     "name": "stdout",
     "output_type": "stream",
     "text": [
      "[array([[[1., 0.],\n",
      "         [0., 0.]],\n",
      "\n",
      "        [[0., 1.],\n",
      "         [0., 0.]],\n",
      "\n",
      "        [[0., 0.],\n",
      "         [1., 0.]],\n",
      "\n",
      "        [[0., 0.],\n",
      "         [0., 1.]]])]\n"
     ]
    }
   ],
   "source": [
    "A[0] = A_0\n",
    "print(A)"
   ]
  },
  {
   "cell_type": "markdown",
   "id": "11528917-a016-413a-93e0-16f037736c1a",
   "metadata": {},
   "source": [
    "## B matrix"
   ]
  },
  {
   "cell_type": "code",
   "execution_count": 8,
   "id": "954dfd60-4ace-44d0-a1b3-a3e22d084746",
   "metadata": {},
   "outputs": [],
   "source": [
    "B = utils.obj_array(num_hidden_state_factors)"
   ]
  },
  {
   "cell_type": "code",
   "execution_count": 9,
   "id": "d19fd0f3-9449-4a66-9aa1-a8af266bdbe5",
   "metadata": {},
   "outputs": [],
   "source": [
    "B_0 = np.zeros( (hidden_states[0], hidden_states[0], num_actions_0) ) \n",
    "B_1 = np.zeros( (hidden_states[1], hidden_states[1], num_actions_1) ) "
   ]
  },
  {
   "cell_type": "code",
   "execution_count": 10,
   "id": "c2f8b72b-0ca7-41a8-8c17-2c6fcf2d730e",
   "metadata": {},
   "outputs": [],
   "source": [
    "# B_0 -> transition probabilities of my hidden states given my actions\n",
    "# B_0[my next state, my current state, my action] = probability of transitioning to next state given current state & action\n",
    "B_0[0, 0, 0] = 1\n",
    "B_0[0, 1, 0] = 1\n",
    "B_0[1, 0, 1] = 1\n",
    "B_0[1, 1, 1] = 1"
   ]
  },
  {
   "cell_type": "code",
   "execution_count": 11,
   "id": "1ba6b1b0-d2b6-40a2-b63c-812749ad2387",
   "metadata": {},
   "outputs": [],
   "source": [
    "B_1[:, :, :] = 0.5 # totally ambiguous, \"I have no idea how the other agent changes the states\""
   ]
  },
  {
   "cell_type": "code",
   "execution_count": 12,
   "id": "7b46d50d-9f96-42bc-87b0-89e91f9276b4",
   "metadata": {},
   "outputs": [
    {
     "name": "stdout",
     "output_type": "stream",
     "text": [
      "[array([[[1., 0.],\n",
      "         [1., 0.]],\n",
      "\n",
      "        [[0., 1.],\n",
      "         [0., 1.]]]) array([[[0.5],\n",
      "                             [0.5]],\n",
      "\n",
      "                            [[0.5],\n",
      "                             [0.5]]])]\n"
     ]
    }
   ],
   "source": [
    "B[0] = B_0\n",
    "B[1] = B_1\n",
    "print(B)"
   ]
  },
  {
   "cell_type": "markdown",
   "id": "7dc4950f-fd4a-42df-82e3-8bb185bd3285",
   "metadata": {},
   "source": [
    "## C vector"
   ]
  },
  {
   "cell_type": "code",
   "execution_count": 13,
   "id": "6e99c837-f4cd-4669-90f4-f5c05c165d25",
   "metadata": {},
   "outputs": [],
   "source": [
    "C = utils.obj_array(num_obs_modalities)"
   ]
  },
  {
   "cell_type": "code",
   "execution_count": 112,
   "id": "d5f30c8b-dfdf-4dcf-9730-62a9aa86fbae",
   "metadata": {},
   "outputs": [],
   "source": [
    "# 00 01 10 11\n",
    "C_0 = np.array([0, 1000, 0, 1000]) # I prefer seeing the states in which both agents have the same state"
   ]
  },
  {
   "cell_type": "code",
   "execution_count": 113,
   "id": "ed4b1bbe-381e-47ba-8ce7-996806fe5a6e",
   "metadata": {},
   "outputs": [
    {
     "name": "stdout",
     "output_type": "stream",
     "text": [
      "[array([   0, 1000,    0, 1000])]\n"
     ]
    }
   ],
   "source": [
    "C[0] = C_0\n",
    "print(C)"
   ]
  },
  {
   "cell_type": "markdown",
   "id": "92891282-5a1a-452c-a9a1-be3a06abca14",
   "metadata": {},
   "source": [
    "## D vector"
   ]
  },
  {
   "cell_type": "code",
   "execution_count": 114,
   "id": "17110fb5-b0fd-4f3b-8e79-1d2925490859",
   "metadata": {},
   "outputs": [],
   "source": [
    "D = utils.obj_array(num_hidden_state_factors)"
   ]
  },
  {
   "cell_type": "code",
   "execution_count": 115,
   "id": "c2ba15c5-77e4-4912-8c1e-562976ec1d6f",
   "metadata": {},
   "outputs": [],
   "source": [
    "D_0 = np.array([1.0, 0])\n",
    "D_1 = np.array([0, 1.0])"
   ]
  },
  {
   "cell_type": "code",
   "execution_count": 116,
   "id": "7210f0af-368f-4c64-8111-c6405bfa9e38",
   "metadata": {},
   "outputs": [
    {
     "name": "stdout",
     "output_type": "stream",
     "text": [
      "[array([1., 0.]) array([0., 1.])]\n"
     ]
    }
   ],
   "source": [
    "D[0] = D_0\n",
    "D[1] = D_1\n",
    "print(D)"
   ]
  },
  {
   "cell_type": "markdown",
   "id": "08bf907f-f965-442d-900f-9e922642e1e6",
   "metadata": {},
   "source": [
    "## Agent"
   ]
  },
  {
   "cell_type": "code",
   "execution_count": 117,
   "id": "00495d23-b06a-499f-a416-7f997c39f6af",
   "metadata": {},
   "outputs": [],
   "source": [
    "from pymdp.agent import Agent"
   ]
  },
  {
   "cell_type": "code",
   "execution_count": 118,
   "id": "eaa41aaa-a67a-41c9-987e-6012b79d9b2b",
   "metadata": {},
   "outputs": [],
   "source": [
    "agent = Agent(A=A, B=B, C=C, D=D, num_controls=num_controls)"
   ]
  },
  {
   "cell_type": "markdown",
   "id": "f8bfc388-3d54-4a9b-990c-51db612f8920",
   "metadata": {},
   "source": [
    "## Environment"
   ]
  },
  {
   "cell_type": "code",
   "execution_count": 119,
   "id": "a2a5b937-e353-45e8-9e6f-b84c81d4ef73",
   "metadata": {},
   "outputs": [],
   "source": [
    "class SingleDeterministic():\n",
    "    def __init__(self, init_state=[0, 1], fixed_policy=0):\n",
    "        self.current_state = init_state\n",
    "        self.init_state = init_state\n",
    "        self.fixed_policy = fixed_policy\n",
    "        self.obs = {\"[0, 0]\": [0], \"[0, 1]\": [1], \"[1, 0]\": [2], \"[1, 1]\": [3]}\n",
    "        print(f\"Starting at state {self.current_state}, fixed second agent with policy {self.fixed_policy}\")\n",
    "        if self.fixed_policy == 0:\n",
    "            self.s_agent_action = 0\n",
    "        if self.fixed_policy == 1:\n",
    "            self.s_agent_action = 1\n",
    "\n",
    "    def step(self, action):\n",
    "        if action == 0:\n",
    "            self.current_state = [0, self.s_agent_action]\n",
    "        if action == 1:\n",
    "            self.current_state = [1, self.s_agent_action]\n",
    "        return self.obs[str(self.current_state)]\n",
    "\n",
    "    def reset(self):\n",
    "        self.current_state = self.init_state\n",
    "        self.fixed_policy = self.fixed_policy\n",
    "        print(\"Environment reset\")\n",
    "        return self.obs[str(self.current_state)]"
   ]
  },
  {
   "cell_type": "code",
   "execution_count": 120,
   "id": "fa25e1c7-bd47-4152-807b-4c71ba58ceb3",
   "metadata": {},
   "outputs": [
    {
     "name": "stdout",
     "output_type": "stream",
     "text": [
      "Starting at state [1, 1], fixed second agent with policy 1\n"
     ]
    }
   ],
   "source": [
    "env = SingleDeterministic(init_state=[1, 1], fixed_policy=1)"
   ]
  },
  {
   "cell_type": "markdown",
   "id": "4afdb5fe-b5eb-4709-afb8-4ee119b28d9f",
   "metadata": {},
   "source": [
    "## Active Inference Loop"
   ]
  },
  {
   "cell_type": "code",
   "execution_count": 124,
   "id": "0a49b507-3e72-4eb2-8c21-d7a86bc7720d",
   "metadata": {},
   "outputs": [],
   "source": [
    "def plot_beliefs(belief_dist, title_str=\"\"):\n",
    "    \"\"\"\n",
    "    Plot a categorical distribution or belief distribution, stored in the 1-D numpy vector `belief_dist`\n",
    "    \"\"\"\n",
    "\n",
    "    if not np.isclose(belief_dist.sum(), 1.0):\n",
    "      raise ValueError(\"Distribution not normalized! Please normalize\")\n",
    "\n",
    "    plt.grid(zorder=0)\n",
    "    plt.bar(range(belief_dist.shape[0]), belief_dist, color='r', zorder=3)\n",
    "    plt.xticks(range(belief_dist.shape[0]))\n",
    "    plt.title(title_str)\n",
    "    plt.show()"
   ]
  },
  {
   "cell_type": "code",
   "execution_count": 125,
   "id": "1f8772f5-004f-47a7-84f2-215760fe4e9a",
   "metadata": {},
   "outputs": [],
   "source": [
    "def actinf_loop(agent, env, T=10):\n",
    "    obs = env.reset()\n",
    "\n",
    "    for t in range(T):\n",
    "        print(f\"Time: {t}. Agent receives observation: {obs}\")\n",
    "        qs = agent.infer_states(obs)\n",
    "        plot_beliefs(qs[0], title_str = f\"Beliefs about the context at time {t}\")\n",
    "        q_pi, efe = agent.infer_policies()\n",
    "        chosen_action = agent.sample_action()\n",
    "        print(f\"Agent chose action: {chosen_action}\") \n",
    "        \n",
    "        obs = env.step(chosen_action[0])\n",
    "        print(f\"New state: {env.current_state}\")"
   ]
  },
  {
   "cell_type": "code",
   "execution_count": 126,
   "id": "6b77f934-879a-4dc3-8da1-5f4587e7a78d",
   "metadata": {},
   "outputs": [
    {
     "name": "stdout",
     "output_type": "stream",
     "text": [
      "Environment reset\n",
      "Time: 0. Agent receives observation: [3]\n"
     ]
    },
    {
     "data": {
      "image/png": "[encoded data removed]",
      "text/plain": [
       "<Figure size 432x288 with 1 Axes>"
      ]
     },
     "metadata": {
      "needs_background": "light"
     },
     "output_type": "display_data"
    },
    {
     "name": "stdout",
     "output_type": "stream",
     "text": [
      "Agent chose action: [0. 0.]\n",
      "New state: [0, 1]\n",
      "Time: 1. Agent receives observation: [1]\n"
     ]
    },
    {
     "data": {
      "image/png": "[encoded data removed]",
      "text/plain": [
       "<Figure size 432x288 with 1 Axes>"
      ]
     },
     "metadata": {
      "needs_background": "light"
     },
     "output_type": "display_data"
    },
    {
     "name": "stdout",
     "output_type": "stream",
     "text": [
      "Agent chose action: [0. 0.]\n",
      "New state: [0, 1]\n",
      "Time: 2. Agent receives observation: [1]\n"
     ]
    },
    {
     "data": {
      "image/png": "[encoded data removed]",
      "text/plain": [
       "<Figure size 432x288 with 1 Axes>"
      ]
     },
     "metadata": {
      "needs_background": "light"
     },
     "output_type": "display_data"
    },
    {
     "name": "stdout",
     "output_type": "stream",
     "text": [
      "Agent chose action: [0. 0.]\n",
      "New state: [0, 1]\n",
      "Time: 3. Agent receives observation: [1]\n"
     ]
    },
    {
     "data": {
      "image/png": "[encoded data removed]",
      "text/plain": [
       "<Figure size 432x288 with 1 Axes>"
      ]
     },
     "metadata": {
      "needs_background": "light"
     },
     "output_type": "display_data"
    },
    {
     "name": "stdout",
     "output_type": "stream",
     "text": [
      "Agent chose action: [0. 0.]\n",
      "New state: [0, 1]\n",
      "Time: 4. Agent receives observation: [1]\n"
     ]
    },
    {
     "data": {
      "image/png": "[encoded data removed]",
      "text/plain": [
       "<Figure size 432x288 with 1 Axes>"
      ]
     },
     "metadata": {
      "needs_background": "light"
     },
     "output_type": "display_data"
    },
    {
     "name": "stdout",
     "output_type": "stream",
     "text": [
      "Agent chose action: [0. 0.]\n",
      "New state: [0, 1]\n",
      "Time: 5. Agent receives observation: [1]\n"
     ]
    },
    {
     "data": {
      "image/png": "[encoded data removed]",
      "text/plain": [
       "<Figure size 432x288 with 1 Axes>"
      ]
     },
     "metadata": {
      "needs_background": "light"
     },
     "output_type": "display_data"
    },
    {
     "name": "stdout",
     "output_type": "stream",
     "text": [
      "Agent chose action: [0. 0.]\n",
      "New state: [0, 1]\n",
      "Time: 6. Agent receives observation: [1]\n"
     ]
    },
    {
     "data": {
      "image/png": "[encoded data removed]",
      "text/plain": [
       "<Figure size 432x288 with 1 Axes>"
      ]
     },
     "metadata": {
      "needs_background": "light"
     },
     "output_type": "display_data"
    },
    {
     "name": "stdout",
     "output_type": "stream",
     "text": [
      "Agent chose action: [0. 0.]\n",
      "New state: [0, 1]\n",
      "Time: 7. Agent receives observation: [1]\n"
     ]
    },
    {
     "data": {
      "image/png": "[encoded data removed]",
      "text/plain": [
       "<Figure size 432x288 with 1 Axes>"
      ]
     },
     "metadata": {
      "needs_background": "light"
     },
     "output_type": "display_data"
    },
    {
     "name": "stdout",
     "output_type": "stream",
     "text": [
      "Agent chose action: [0. 0.]\n",
      "New state: [0, 1]\n",
      "Time: 8. Agent receives observation: [1]\n"
     ]
    },
    {
     "data": {
      "image/png": "[encoded data removed]",
      "text/plain": [
       "<Figure size 432x288 with 1 Axes>"
      ]
     },
     "metadata": {
      "needs_background": "light"
     },
     "output_type": "display_data"
    },
    {
     "name": "stdout",
     "output_type": "stream",
     "text": [
      "Agent chose action: [0. 0.]\n",
      "New state: [0, 1]\n",
      "Time: 9. Agent receives observation: [1]\n"
     ]
    },
    {
     "data": {
      "image/png": "[encoded data removed]",
      "text/plain": [
       "<Figure size 432x288 with 1 Axes>"
      ]
     },
     "metadata": {
      "needs_background": "light"
     },
     "output_type": "display_data"
    },
    {
     "name": "stdout",
     "output_type": "stream",
     "text": [
      "Agent chose action: [0. 0.]\n",
      "New state: [0, 1]\n"
     ]
    }
   ],
   "source": [
    "actinf_loop(agent, env, 10)"
   ]
  },
  {
   "cell_type": "code",
   "execution_count": null,
   "id": "f5b9064d-5547-40ee-a4b4-f8e7e4205da3",
   "metadata": {},
   "outputs": [],
   "source": []
  }
 ],
 "metadata": {
  "kernelspec": {
   "display_name": "Python 3 (ipykernel)",
   "language": "python",
   "name": "python3"
  },
  "language_info": {
   "codemirror_mode": {
    "name": "ipython",
    "version": 3
   },
   "file_extension": ".py",
   "mimetype": "text/x-python",
   "name": "python",
   "nbconvert_exporter": "python",
   "pygments_lexer": "ipython3",
   "version": "3.8.5"
  }
 },
 "nbformat": 4,
 "nbformat_minor": 5
}
