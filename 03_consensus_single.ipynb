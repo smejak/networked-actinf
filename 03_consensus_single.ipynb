{
 "cells": [
  {
   "cell_type": "code",
   "execution_count": 1,
   "id": "997b0dd4-db21-47eb-a6d8-8f58a8ecada7",
   "metadata": {},
   "outputs": [],
   "source": [
    "import pymdp\n",
    "from pymdp.agent import Agent\n",
    "import numpy as np\n",
    "\n",
    "from typing import List"
   ]
  },
  {
   "cell_type": "code",
   "execution_count": 2,
   "id": "ed828b04-ba5e-41df-8b25-9c0e0a1128ff",
   "metadata": {},
   "outputs": [],
   "source": [
    "obs = [4] # 00, 01, 10, 11\n",
    "num_obs_modalities = len(obs)\n",
    "\n",
    "hidden_states = [4]\n",
    "num_hidden_state_factors = len(hidden_states)\n",
    "\n",
    "actions = [0, 1]\n",
    "num_actions_0 = 2\n",
    "\n",
    "num_controls = [2]\n",
    "num_control_factors = len(num_controls)\n",
    "\n",
    "preferences = [100, 0, 0, 100]"
   ]
  },
  {
   "cell_type": "code",
   "execution_count": 84,
   "id": "4b2cbd22-1fbb-4239-935e-d877eae8250e",
   "metadata": {},
   "outputs": [],
   "source": [
    "def generate_A(num_obs_modalities: int, obs: List[int], hidden_states: List[int]):\n",
    "    \n",
    "    A = pymdp.utils.obj_array(num_obs_modalities)\n",
    "    A_0 = np.zeros((obs[0], hidden_states[0]))\n",
    "    np.fill_diagonal(A_0, val=1.0)\n",
    "    A[0] = A_0\n",
    "    \n",
    "    return A\n",
    "\n",
    "def generate_B(hidden_states: List[int], num_controls: int):\n",
    "    \n",
    "    B = pymdp.utils.initialize_empty_B(hidden_states, num_controls)\n",
    "    B_new = B[0]\n",
    "    uniform_B = np.full(B[0].shape, 0.25)\n",
    "\n",
    "#     # B_0[my next state, my current state, my action] = probability of transitioning to next state given current state & action\n",
    "#     B[0][0, 0, 0] = 0.5\n",
    "#     B[0][1, 0, 0] = 0.5\n",
    "#     B[0][0, 1, 0] = 0.5\n",
    "#     B[0][1, 1, 0] = 0.5\n",
    "\n",
    "#     B[0][0, 0, 1] = 0.5\n",
    "#     B[0][1, 0, 1] = 0.5\n",
    "#     B[0][0, 1, 1] = 0.5\n",
    "#     B[0][1, 1, 1] = 0.5\n",
    "    \n",
    "    \n",
    "    return uniform_B\n",
    "\n",
    "def generate_C(num_obs_modalities: int, preferences: List[int]):\n",
    "    \n",
    "    C = pymdp.utils.obj_array(num_obs_modalities)\n",
    "    C_0 = np.array(preferences) # 00 and 11 have high preference\n",
    "    C[0] = C_0\n",
    "    \n",
    "    return C\n",
    "\n",
    "def generate_D(num_hidden_state_factors: int, state: List = [1, 0, 0, 0]):\n",
    "    \n",
    "    D = pymdp.utils.obj_array(num_hidden_state_factors)\n",
    "    D_0 = np.array(state)\n",
    "    D[0] = D_0\n",
    "    \n",
    "    return D"
   ]
  },
  {
   "cell_type": "code",
   "execution_count": 87,
   "id": "17299b3b-7670-4163-84e6-c9b5b96e313b",
   "metadata": {},
   "outputs": [],
   "source": [
    "def generate_agent(\n",
    "        num_obs_modalities: int,\n",
    "        num_hidden_state_factors: int,\n",
    "        obs: List[int], \n",
    "        hidden_states: List[int],\n",
    "        num_controls: int,\n",
    "        preferences: List[int],\n",
    "        state: List = [1, 0, 0, 0], \n",
    "        policy_len: int = 2\n",
    "    ):\n",
    "    \n",
    "    A = generate_A(num_obs_modalities, obs, hidden_states)\n",
    "    B = generate_B(hidden_states, num_controls)\n",
    "    C = generate_C(num_obs_modalities, preferences)\n",
    "    D = generate_D(num_hidden_state_factors, state)\n",
    "    \n",
    "    agent = Agent(A=A, B=B, C=C, D=D, num_controls=num_controls, policy_len=policy_len)\n",
    "    \n",
    "    return agent"
   ]
  },
  {
   "cell_type": "code",
   "execution_count": 88,
   "id": "d191cb3b-a7e1-4fff-9d8a-7b2220030133",
   "metadata": {},
   "outputs": [],
   "source": [
    "agent_0 = generate_agent(num_obs_modalities, num_hidden_state_factors, obs, hidden_states, num_controls, preferences)"
   ]
  },
  {
   "cell_type": "code",
   "execution_count": 89,
   "id": "128f7e0e-5ed7-411b-bd3c-825e4d746bab",
   "metadata": {},
   "outputs": [
    {
     "name": "stdout",
     "output_type": "stream",
     "text": [
      "Starting at state [1, 1], fixed second agent with policy 1\n"
     ]
    }
   ],
   "source": [
    "class SingleDeterministic():\n",
    "    def __init__(self, init_state=[0, 1], fixed_policy=0):\n",
    "        self.current_state = init_state\n",
    "        self.init_state = init_state\n",
    "        self.fixed_policy = fixed_policy\n",
    "        self.obs = {\"[0, 0]\": [0], \"[0, 1]\": [1], \"[1, 0]\": [2], \"[1, 1]\": [3]}\n",
    "        print(f\"Starting at state {self.current_state}, fixed second agent with policy {self.fixed_policy}\")\n",
    "\n",
    "    def step(self, action):\n",
    "        if action == 0:\n",
    "            self.current_state = [0, self.fixed_policy]\n",
    "        if action == 1:\n",
    "            self.current_state = [1, self.fixed_policy]\n",
    "        return self.obs[str(self.current_state)]\n",
    "\n",
    "    def reset(self):\n",
    "        self.current_state = self.init_state\n",
    "        self.fixed_policy = self.fixed_policy\n",
    "        print(\"Environment reset\")\n",
    "        return self.obs[str(self.current_state)]\n",
    "\n",
    "env = SingleDeterministic(init_state=[1, 1], fixed_policy=1)"
   ]
  },
  {
   "cell_type": "code",
   "execution_count": 91,
   "id": "54efb812-fe3b-42bc-80ca-5e9e8ade1532",
   "metadata": {},
   "outputs": [
    {
     "name": "stdout",
     "output_type": "stream",
     "text": [
      "Environment reset\n",
      "Time: 0. Agent receives observation: [3]\n",
      "belief: [array([5.e-01, 5.e-17, 5.e-17, 5.e-01])]\n"
     ]
    },
    {
     "data": {
      "image/png": "[encoded data removed]",
      "text/plain": [
       "<Figure size 432x288 with 1 Axes>"
      ]
     },
     "metadata": {
      "needs_background": "light"
     },
     "output_type": "display_data"
    },
    {
     "name": "stdout",
     "output_type": "stream",
     "text": [
      "Agent chose action: [0.]\n",
      "New state: [0, 1]\n",
      "Time: 1. Agent receives observation: [1]\n",
      "belief: [array([1.e-16, 1.e+00, 1.e-16, 1.e-16])]\n"
     ]
    },
    {
     "data": {
      "image/png": "[encoded data removed]",
      "text/plain": [
       "<Figure size 432x288 with 1 Axes>"
      ]
     },
     "metadata": {
      "needs_background": "light"
     },
     "output_type": "display_data"
    },
    {
     "name": "stdout",
     "output_type": "stream",
     "text": [
      "Agent chose action: [0.]\n",
      "New state: [0, 1]\n",
      "Time: 2. Agent receives observation: [1]\n",
      "belief: [array([1.e-16, 1.e+00, 1.e-16, 1.e-16])]\n"
     ]
    },
    {
     "data": {
      "image/png": "[encoded data removed]",
      "text/plain": [
       "<Figure size 432x288 with 1 Axes>"
      ]
     },
     "metadata": {
      "needs_background": "light"
     },
     "output_type": "display_data"
    },
    {
     "name": "stdout",
     "output_type": "stream",
     "text": [
      "Agent chose action: [0.]\n",
      "New state: [0, 1]\n",
      "Time: 3. Agent receives observation: [1]\n",
      "belief: [array([1.e-16, 1.e+00, 1.e-16, 1.e-16])]\n"
     ]
    },
    {
     "data": {
      "image/png": "[encoded data removed]",
      "text/plain": [
       "<Figure size 432x288 with 1 Axes>"
      ]
     },
     "metadata": {
      "needs_background": "light"
     },
     "output_type": "display_data"
    },
    {
     "name": "stdout",
     "output_type": "stream",
     "text": [
      "Agent chose action: [0.]\n",
      "New state: [0, 1]\n",
      "Time: 4. Agent receives observation: [1]\n",
      "belief: [array([1.e-16, 1.e+00, 1.e-16, 1.e-16])]\n"
     ]
    },
    {
     "data": {
      "image/png": "[encoded data removed]",
      "text/plain": [
       "<Figure size 432x288 with 1 Axes>"
      ]
     },
     "metadata": {
      "needs_background": "light"
     },
     "output_type": "display_data"
    },
    {
     "name": "stdout",
     "output_type": "stream",
     "text": [
      "Agent chose action: [0.]\n",
      "New state: [0, 1]\n",
      "Time: 5. Agent receives observation: [1]\n",
      "belief: [array([1.e-16, 1.e+00, 1.e-16, 1.e-16])]\n"
     ]
    },
    {
     "data": {
      "image/png": "[encoded data removed]",
      "text/plain": [
       "<Figure size 432x288 with 1 Axes>"
      ]
     },
     "metadata": {
      "needs_background": "light"
     },
     "output_type": "display_data"
    },
    {
     "name": "stdout",
     "output_type": "stream",
     "text": [
      "Agent chose action: [0.]\n",
      "New state: [0, 1]\n",
      "Time: 6. Agent receives observation: [1]\n",
      "belief: [array([1.e-16, 1.e+00, 1.e-16, 1.e-16])]\n"
     ]
    },
    {
     "data": {
      "image/png": "[encoded data removed]",
      "text/plain": [
       "<Figure size 432x288 with 1 Axes>"
      ]
     },
     "metadata": {
      "needs_background": "light"
     },
     "output_type": "display_data"
    },
    {
     "name": "stdout",
     "output_type": "stream",
     "text": [
      "Agent chose action: [0.]\n",
      "New state: [0, 1]\n",
      "Time: 7. Agent receives observation: [1]\n",
      "belief: [array([1.e-16, 1.e+00, 1.e-16, 1.e-16])]\n"
     ]
    },
    {
     "data": {
      "image/png": "[encoded data removed]",
      "text/plain": [
       "<Figure size 432x288 with 1 Axes>"
      ]
     },
     "metadata": {
      "needs_background": "light"
     },
     "output_type": "display_data"
    },
    {
     "name": "stdout",
     "output_type": "stream",
     "text": [
      "Agent chose action: [0.]\n",
      "New state: [0, 1]\n",
      "Time: 8. Agent receives observation: [1]\n",
      "belief: [array([1.e-16, 1.e+00, 1.e-16, 1.e-16])]\n"
     ]
    },
    {
     "data": {
      "image/png": "[encoded data removed]",
      "text/plain": [
       "<Figure size 432x288 with 1 Axes>"
      ]
     },
     "metadata": {
      "needs_background": "light"
     },
     "output_type": "display_data"
    },
    {
     "name": "stdout",
     "output_type": "stream",
     "text": [
      "Agent chose action: [0.]\n",
      "New state: [0, 1]\n",
      "Time: 9. Agent receives observation: [1]\n",
      "belief: [array([1.e-16, 1.e+00, 1.e-16, 1.e-16])]\n"
     ]
    },
    {
     "data": {
      "image/png": "[encoded data removed]",
      "text/plain": [
       "<Figure size 432x288 with 1 Axes>"
      ]
     },
     "metadata": {
      "needs_background": "light"
     },
     "output_type": "display_data"
    },
    {
     "name": "stdout",
     "output_type": "stream",
     "text": [
      "Agent chose action: [0.]\n",
      "New state: [0, 1]\n"
     ]
    }
   ],
   "source": [
    "from utils import plot_beliefs\n",
    "\n",
    "def actinf_loop(agent, env, T=10):\n",
    "    obs = env.reset()\n",
    "\n",
    "    for t in range(T):\n",
    "        print(f\"Time: {t}. Agent receives observation: {obs}\")\n",
    "        qs = agent.infer_states(obs)\n",
    "        print(f\"belief: {qs}\")\n",
    "        plot_beliefs(qs[0], title_str = f\"Beliefs about its context at time {t}\")\n",
    "        # plot_beliefs(qs[1], title_str = f\"Beliefs about opponent context at time {t}\")\n",
    "        q_pi, efe = agent.infer_policies()\n",
    "        chosen_action = agent.sample_action()\n",
    "        print(f\"Agent chose action: {chosen_action}\") \n",
    "        \n",
    "        obs = env.step(chosen_action[0])\n",
    "        print(f\"New state: {env.current_state}\")\n",
    "\n",
    "actinf_loop(agent_0, env, 10)"
   ]
  },
  {
   "cell_type": "code",
   "execution_count": null,
   "id": "dc37b526-f5f9-4465-a57b-4bd8b7dde16f",
   "metadata": {},
   "outputs": [],
   "source": []
  }
 ],
 "metadata": {
  "kernelspec": {
   "display_name": "Python 3 (ipykernel)",
   "language": "python",
   "name": "python3"
  },
  "language_info": {
   "codemirror_mode": {
    "name": "ipython",
    "version": 3
   },
   "file_extension": ".py",
   "mimetype": "text/x-python",
   "name": "python",
   "nbconvert_exporter": "python",
   "pygments_lexer": "ipython3",
   "version": "3.8.5"
  }
 },
 "nbformat": 4,
 "nbformat_minor": 5
}
